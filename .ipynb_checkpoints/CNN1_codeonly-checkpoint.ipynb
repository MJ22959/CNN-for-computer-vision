{
 "cells": [
  {
   "cell_type": "code",
   "execution_count": 1,
   "metadata": {},
   "outputs": [],
   "source": [
    "import numpy as np\n",
    "import pandas as pd\n",
    "%matplotlib inline\n",
    "import matplotlib as mpl\n",
    "import matplotlib.pyplot as plt"
   ]
  },
  {
   "cell_type": "code",
   "execution_count": 2,
   "metadata": {},
   "outputs": [],
   "source": [
    "import tensorflow as tf\n",
    "from tensorflow import keras"
   ]
  },
  {
   "cell_type": "code",
   "execution_count": 3,
   "metadata": {},
   "outputs": [],
   "source": [
    "fashion_mnist = keras.datasets.fashion_mnist\n",
    "(X_train_full, y_train_full), (X_test, y_test) = fashion_mnist.load_data()"
   ]
  },
  {
   "cell_type": "code",
   "execution_count": 4,
   "metadata": {},
   "outputs": [],
   "source": [
    "class_names = [\"T-shirt/top\", \"Trouser\", \"Pullover\", \"Dress\", \"Coat\",\n",
    "               \"Sandal\", \"Shirt\", \"Sneaker\", \"Bag\", \"Ankie boot\"]"
   ]
  },
  {
   "cell_type": "code",
   "execution_count": 5,
   "metadata": {},
   "outputs": [],
   "source": [
    "X_train_full = X_train_full.reshape((60000,28,28,1))\n",
    "X_test = X_test.reshape((10000, 28, 28, 1))"
   ]
  },
  {
   "cell_type": "code",
   "execution_count": 6,
   "metadata": {},
   "outputs": [],
   "source": [
    "X_train_n = X_train_full / 255.\n",
    "X_test_n = X_test / 255."
   ]
  },
  {
   "cell_type": "code",
   "execution_count": 7,
   "metadata": {},
   "outputs": [],
   "source": [
    "X_valid, X_train = X_train_n[:5000], X_train_n[5000:]\n",
    "y_valid, y_train = y_train_full[:5000], y_train_full[5000:]\n",
    "X_test = X_test_n"
   ]
  },
  {
   "cell_type": "code",
   "execution_count": 8,
   "metadata": {},
   "outputs": [],
   "source": [
    "np.random.seed(42)\n",
    "tf.random.set_seed(42)"
   ]
  },
  {
   "cell_type": "code",
   "execution_count": 10,
   "metadata": {},
   "outputs": [],
   "source": [
    "model = keras.models.Sequential()\n",
    "model.add(keras.layers.Conv2D(filters = 32, kernel_size = (3, 3), strides = 1, padding = 'valid', activation = 'relu', input_shape = (28, 28, 1)))\n",
    "model.add(keras.layers.MaxPooling2D((2,2)))\n",
    "model.add(keras.layers.Flatten())\n",
    "model.add(keras.layers.Dense(300, activation = \"relu\"))\n",
    "model.add(keras.layers.Dense(100, activation = \"relu\"))\n",
    "model.add(keras.layers.Dense(10, activation = \"softmax\"))"
   ]
  },
  {
   "cell_type": "code",
   "execution_count": 11,
   "metadata": {},
   "outputs": [
    {
     "name": "stdout",
     "output_type": "stream",
     "text": [
      "Model: \"sequential_1\"\n",
      "_________________________________________________________________\n",
      "Layer (type)                 Output Shape              Param #   \n",
      "=================================================================\n",
      "conv2d_1 (Conv2D)            (None, 26, 26, 32)        320       \n",
      "_________________________________________________________________\n",
      "max_pooling2d_1 (MaxPooling2 (None, 13, 13, 32)        0         \n",
      "_________________________________________________________________\n",
      "flatten (Flatten)            (None, 5408)              0         \n",
      "_________________________________________________________________\n",
      "dense (Dense)                (None, 300)               1622700   \n",
      "_________________________________________________________________\n",
      "dense_1 (Dense)              (None, 100)               30100     \n",
      "_________________________________________________________________\n",
      "dense_2 (Dense)              (None, 10)                1010      \n",
      "=================================================================\n",
      "Total params: 1,654,130\n",
      "Trainable params: 1,654,130\n",
      "Non-trainable params: 0\n",
      "_________________________________________________________________\n"
     ]
    }
   ],
   "source": [
    "model.summary()"
   ]
  },
  {
   "cell_type": "code",
   "execution_count": 12,
   "metadata": {},
   "outputs": [],
   "source": [
    "model.compile(loss = \"sparse_categorical_crossentropy\",\n",
    "                 optimizer = \"sgd\",\n",
    "                 metrics = [\"accuracy\"])"
   ]
  },
  {
   "cell_type": "code",
   "execution_count": 13,
   "metadata": {},
   "outputs": [
    {
     "name": "stdout",
     "output_type": "stream",
     "text": [
      "Epoch 1/30\n",
      "860/860 [==============================] - 40s 46ms/step - loss: 0.8352 - accuracy: 0.7172 - val_loss: 0.7372 - val_accuracy: 0.7286\n",
      "Epoch 2/30\n",
      "860/860 [==============================] - 37s 43ms/step - loss: 0.5359 - accuracy: 0.8059 - val_loss: 0.4845 - val_accuracy: 0.8228\n",
      "Epoch 3/30\n",
      "860/860 [==============================] - 39s 45ms/step - loss: 0.4789 - accuracy: 0.8266 - val_loss: 0.8826 - val_accuracy: 0.7038\n",
      "Epoch 4/30\n",
      "860/860 [==============================] - 40s 47ms/step - loss: 0.4420 - accuracy: 0.8409 - val_loss: 0.4141 - val_accuracy: 0.8588\n",
      "Epoch 5/30\n",
      "860/860 [==============================] - 40s 47ms/step - loss: 0.4179 - accuracy: 0.8502 - val_loss: 0.4224 - val_accuracy: 0.8508\n",
      "Epoch 6/30\n",
      "860/860 [==============================] - 45s 53ms/step - loss: 0.3934 - accuracy: 0.8581 - val_loss: 0.3732 - val_accuracy: 0.8714\n",
      "Epoch 7/30\n",
      "860/860 [==============================] - 46s 53ms/step - loss: 0.3766 - accuracy: 0.8653 - val_loss: 0.4115 - val_accuracy: 0.8520\n",
      "Epoch 8/30\n",
      "860/860 [==============================] - 46s 53ms/step - loss: 0.3616 - accuracy: 0.8687 - val_loss: 0.5062 - val_accuracy: 0.8130\n",
      "Epoch 9/30\n",
      "860/860 [==============================] - 45s 53ms/step - loss: 0.3489 - accuracy: 0.8734 - val_loss: 0.3746 - val_accuracy: 0.8644\n",
      "Epoch 10/30\n",
      "860/860 [==============================] - 33s 39ms/step - loss: 0.3376 - accuracy: 0.8780 - val_loss: 0.3671 - val_accuracy: 0.8658\n",
      "Epoch 11/30\n",
      "860/860 [==============================] - 42s 49ms/step - loss: 0.3256 - accuracy: 0.8800 - val_loss: 0.3463 - val_accuracy: 0.8776\n",
      "Epoch 12/30\n",
      "860/860 [==============================] - 46s 53ms/step - loss: 0.3156 - accuracy: 0.8850 - val_loss: 0.3372 - val_accuracy: 0.8810\n",
      "Epoch 13/30\n",
      "860/860 [==============================] - 47s 55ms/step - loss: 0.3090 - accuracy: 0.8868 - val_loss: 0.3507 - val_accuracy: 0.8758\n",
      "Epoch 14/30\n",
      "860/860 [==============================] - 47s 54ms/step - loss: 0.3011 - accuracy: 0.8901 - val_loss: 0.3639 - val_accuracy: 0.8674\n",
      "Epoch 15/30\n",
      "860/860 [==============================] - 49s 57ms/step - loss: 0.2928 - accuracy: 0.8924 - val_loss: 0.4041 - val_accuracy: 0.8506\n",
      "Epoch 16/30\n",
      "860/860 [==============================] - 37s 43ms/step - loss: 0.2873 - accuracy: 0.8948 - val_loss: 0.2988 - val_accuracy: 0.8922\n",
      "Epoch 17/30\n",
      "860/860 [==============================] - 33s 38ms/step - loss: 0.2799 - accuracy: 0.8977 - val_loss: 0.4154 - val_accuracy: 0.8592\n",
      "Epoch 18/30\n",
      "860/860 [==============================] - 32s 38ms/step - loss: 0.2748 - accuracy: 0.8989 - val_loss: 0.3476 - val_accuracy: 0.8744\n",
      "Epoch 19/30\n",
      "860/860 [==============================] - 44s 52ms/step - loss: 0.2686 - accuracy: 0.9017 - val_loss: 0.3169 - val_accuracy: 0.8862\n",
      "Epoch 20/30\n",
      "860/860 [==============================] - 46s 54ms/step - loss: 0.2631 - accuracy: 0.9038 - val_loss: 0.3268 - val_accuracy: 0.8834\n",
      "Epoch 21/30\n",
      "860/860 [==============================] - 46s 53ms/step - loss: 0.2573 - accuracy: 0.9051 - val_loss: 0.2975 - val_accuracy: 0.8924\n",
      "Epoch 22/30\n",
      "860/860 [==============================] - 34s 40ms/step - loss: 0.2522 - accuracy: 0.9072 - val_loss: 0.2915 - val_accuracy: 0.8946\n",
      "Epoch 23/30\n",
      "860/860 [==============================] - 34s 39ms/step - loss: 0.2465 - accuracy: 0.9090 - val_loss: 0.2790 - val_accuracy: 0.8986\n",
      "Epoch 24/30\n",
      "860/860 [==============================] - 33s 39ms/step - loss: 0.2415 - accuracy: 0.9117 - val_loss: 0.3023 - val_accuracy: 0.8910\n",
      "Epoch 25/30\n",
      "860/860 [==============================] - 33s 38ms/step - loss: 0.2373 - accuracy: 0.9132 - val_loss: 0.2891 - val_accuracy: 0.8952\n",
      "Epoch 26/30\n",
      "860/860 [==============================] - 46s 53ms/step - loss: 0.2335 - accuracy: 0.9144 - val_loss: 0.2866 - val_accuracy: 0.8988\n",
      "Epoch 27/30\n",
      "860/860 [==============================] - 47s 55ms/step - loss: 0.2295 - accuracy: 0.9151 - val_loss: 0.2740 - val_accuracy: 0.8982\n",
      "Epoch 28/30\n",
      "860/860 [==============================] - 48s 55ms/step - loss: 0.2242 - accuracy: 0.9175 - val_loss: 0.3045 - val_accuracy: 0.8912\n",
      "Epoch 29/30\n",
      "860/860 [==============================] - 50s 58ms/step - loss: 0.2195 - accuracy: 0.9197 - val_loss: 0.2833 - val_accuracy: 0.8968\n",
      "Epoch 30/30\n",
      "860/860 [==============================] - 49s 57ms/step - loss: 0.2167 - accuracy: 0.9201 - val_loss: 0.2728 - val_accuracy: 0.9026\n"
     ]
    }
   ],
   "source": [
    "model_history = model.fit(X_train, y_train, epochs = 30, batch_size = 64,\n",
    "                             validation_data = (X_valid, y_valid))"
   ]
  },
  {
   "cell_type": "code",
   "execution_count": 14,
   "metadata": {},
   "outputs": [
    {
     "data": {
      "image/png": "[encoded data removed]",
      "text/plain": [
       "<Figure size 576x360 with 1 Axes>"
      ]
     },
     "metadata": {
      "needs_background": "light"
     },
     "output_type": "display_data"
    }
   ],
   "source": [
    "import pandas as pd\n",
    "\n",
    "pd.DataFrame(model_history.history).plot(figsize = (8, 5))\n",
    "plt.grid(True)\n",
    "plt.gca().set_ylim(0,1)\n",
    "plt.show()"
   ]
  },
  {
   "cell_type": "code",
   "execution_count": 15,
   "metadata": {},
   "outputs": [
    {
     "name": "stdout",
     "output_type": "stream",
     "text": [
      "313/313 [==============================] - 5s 16ms/step - loss: 0.2814 - accuracy: 0.8997\n"
     ]
    }
   ],
   "source": [
    "ev = model.evaluate(X_test_n, y_test)"
   ]
  },
  {
   "cell_type": "code",
   "execution_count": 16,
   "metadata": {},
   "outputs": [
    {
     "data": {
      "text/plain": [
       "[0.2813540995121002, 0.8996999859809875]"
      ]
     },
     "execution_count": 16,
     "metadata": {},
     "output_type": "execute_result"
    }
   ],
   "source": [
    "ev"
   ]
  },
  {
   "cell_type": "code",
   "execution_count": 17,
   "metadata": {},
   "outputs": [],
   "source": [
    "X_new = X_test[:3]"
   ]
  },
  {
   "cell_type": "code",
   "execution_count": 18,
   "metadata": {},
   "outputs": [
    {
     "name": "stdout",
     "output_type": "stream",
     "text": [
      "WARNING:tensorflow:From <ipython-input-18-81ace37e545f>:1: Sequential.predict_classes (from tensorflow.python.keras.engine.sequential) is deprecated and will be removed after 2021-01-01.\n",
      "Instructions for updating:\n",
      "Please use instead:* `np.argmax(model.predict(x), axis=-1)`,   if your model does multi-class classification   (e.g. if it uses a `softmax` last-layer activation).* `(model.predict(x) > 0.5).astype(\"int32\")`,   if your model does binary classification   (e.g. if it uses a `sigmoid` last-layer activation).\n"
     ]
    },
    {
     "data": {
      "text/plain": [
       "array([9, 2, 1], dtype=int64)"
      ]
     },
     "execution_count": 18,
     "metadata": {},
     "output_type": "execute_result"
    }
   ],
   "source": [
    "y_pred = model.predict_classes(X_new)\n",
    "y_pred"
   ]
  },
  {
   "cell_type": "code",
   "execution_count": 19,
   "metadata": {},
   "outputs": [
    {
     "data": {
      "text/plain": [
       "array([9, 2, 1], dtype=uint8)"
      ]
     },
     "execution_count": 19,
     "metadata": {},
     "output_type": "execute_result"
    }
   ],
   "source": [
    "y_test[:3]"
   ]
  },
  {
   "cell_type": "code",
   "execution_count": 20,
   "metadata": {},
   "outputs": [
    {
     "name": "stdout",
     "output_type": "stream",
     "text": [
      "AxesImage(54,36;334.8x217.44)\n"
     ]
    },
    {
     "data": {
      "image/png": "[encoded data removed]",
      "text/plain": [
       "<Figure size 432x288 with 1 Axes>"
      ]
     },
     "metadata": {
      "needs_background": "light"
     },
     "output_type": "display_data"
    }
   ],
   "source": [
    "print(plt.imshow(X_test[0].reshape((28, 28))))"
   ]
  },
  {
   "cell_type": "markdown",
   "metadata": {},
   "source": [
    "## Pooling vs non Pooling"
   ]
  },
  {
   "cell_type": "code",
   "execution_count": 21,
   "metadata": {},
   "outputs": [],
   "source": [
    "model_a = keras.models.Sequential()\n",
    "model_a.add(keras.layers.Conv2D(filters = 32, kernel_size = (3, 3), strides = 1, padding = 'valid', activation = 'relu', input_shape = (28, 28, 1)))\n",
    "model_a.add(keras.layers.MaxPooling2D((2,2)))\n",
    "model_a.add(keras.layers.Flatten())\n",
    "model_a.add(keras.layers.Dense(300, activation = \"relu\"))\n",
    "model_a.add(keras.layers.Dense(100, activation = \"relu\"))\n",
    "model_a.add(keras.layers.Dense(10, activation = \"softmax\"))\n",
    "\n",
    "model_b = keras.models.Sequential()\n",
    "model_b.add(keras.layers.Conv2D(filters = 32, kernel_size = (3, 3), strides = 1, padding = 'valid', activation = 'relu', input_shape = (28, 28, 1)))\n",
    "model_b.add(keras.layers.Flatten())\n",
    "model_b.add(keras.layers.Dense(300, activation = \"relu\"))\n",
    "model_b.add(keras.layers.Dense(100, activation = \"relu\"))\n",
    "model_b.add(keras.layers.Dense(10, activation = \"softmax\"))"
   ]
  },
  {
   "cell_type": "code",
   "execution_count": 22,
   "metadata": {},
   "outputs": [
    {
     "name": "stdout",
     "output_type": "stream",
     "text": [
      "Model: \"sequential_2\"\n",
      "_________________________________________________________________\n",
      "Layer (type)                 Output Shape              Param #   \n",
      "=================================================================\n",
      "conv2d_2 (Conv2D)            (None, 26, 26, 32)        320       \n",
      "_________________________________________________________________\n",
      "max_pooling2d_2 (MaxPooling2 (None, 13, 13, 32)        0         \n",
      "_________________________________________________________________\n",
      "flatten_1 (Flatten)          (None, 5408)              0         \n",
      "_________________________________________________________________\n",
      "dense_3 (Dense)              (None, 300)               1622700   \n",
      "_________________________________________________________________\n",
      "dense_4 (Dense)              (None, 100)               30100     \n",
      "_________________________________________________________________\n",
      "dense_5 (Dense)              (None, 10)                1010      \n",
      "=================================================================\n",
      "Total params: 1,654,130\n",
      "Trainable params: 1,654,130\n",
      "Non-trainable params: 0\n",
      "_________________________________________________________________\n"
     ]
    }
   ],
   "source": [
    "model_a.summary()"
   ]
  },
  {
   "cell_type": "code",
   "execution_count": 23,
   "metadata": {},
   "outputs": [
    {
     "name": "stdout",
     "output_type": "stream",
     "text": [
      "Model: \"sequential_3\"\n",
      "_________________________________________________________________\n",
      "Layer (type)                 Output Shape              Param #   \n",
      "=================================================================\n",
      "conv2d_3 (Conv2D)            (None, 26, 26, 32)        320       \n",
      "_________________________________________________________________\n",
      "flatten_2 (Flatten)          (None, 21632)             0         \n",
      "_________________________________________________________________\n",
      "dense_6 (Dense)              (None, 300)               6489900   \n",
      "_________________________________________________________________\n",
      "dense_7 (Dense)              (None, 100)               30100     \n",
      "_________________________________________________________________\n",
      "dense_8 (Dense)              (None, 10)                1010      \n",
      "=================================================================\n",
      "Total params: 6,521,330\n",
      "Trainable params: 6,521,330\n",
      "Non-trainable params: 0\n",
      "_________________________________________________________________\n"
     ]
    }
   ],
   "source": [
    "model_b.summary()"
   ]
  },
  {
   "cell_type": "code",
   "execution_count": 24,
   "metadata": {},
   "outputs": [],
   "source": [
    "model_a.compile(loss = \"sparse_categorical_crossentropy\",\n",
    "                 optimizer = \"sgd\",\n",
    "                 metrics = [\"accuracy\"])\n",
    "\n",
    "model_b.compile(loss = \"sparse_categorical_crossentropy\",\n",
    "                 optimizer = \"sgd\",\n",
    "                 metrics = [\"accuracy\"])"
   ]
  },
  {
   "cell_type": "code",
   "execution_count": 25,
   "metadata": {},
   "outputs": [
    {
     "name": "stdout",
     "output_type": "stream",
     "text": [
      "Epoch 1/3\n",
      "860/860 [==============================] - 41s 48ms/step - loss: 0.9026 - accuracy: 0.6871 - val_loss: 0.7703 - val_accuracy: 0.7188\n",
      "Epoch 2/3\n",
      "860/860 [==============================] - 42s 49ms/step - loss: 0.5419 - accuracy: 0.8041 - val_loss: 0.4869 - val_accuracy: 0.8188\n",
      "Epoch 3/3\n",
      "860/860 [==============================] - 45s 52ms/step - loss: 0.4833 - accuracy: 0.8259 - val_loss: 1.0389 - val_accuracy: 0.6894\n"
     ]
    }
   ],
   "source": [
    "model_history_a = model_a.fit(X_train, y_train, epochs = 3, batch_size = 64,\n",
    "                             validation_data = (X_valid, y_valid))"
   ]
  },
  {
   "cell_type": "code",
   "execution_count": 26,
   "metadata": {},
   "outputs": [
    {
     "name": "stdout",
     "output_type": "stream",
     "text": [
      "Epoch 1/3\n",
      "860/860 [==============================] - 88s 102ms/step - loss: 0.7418 - accuracy: 0.7400 - val_loss: 0.7422 - val_accuracy: 0.7354\n",
      "Epoch 2/3\n",
      "860/860 [==============================] - 86s 100ms/step - loss: 0.4921 - accuracy: 0.8231 - val_loss: 0.4861 - val_accuracy: 0.8128\n",
      "Epoch 3/3\n",
      "860/860 [==============================] - 68s 79ms/step - loss: 0.4407 - accuracy: 0.8405 - val_loss: 0.9399 - val_accuracy: 0.7116\n"
     ]
    }
   ],
   "source": [
    "model_history_b = model_b.fit(X_train, y_train, epochs = 3, batch_size = 64,\n",
    "                             validation_data = (X_valid, y_valid))"
   ]
  }
 ],
 "metadata": {
  "kernelspec": {
   "display_name": "Python 3",
   "language": "python",
   "name": "python3"
  },
  "language_info": {
   "codemirror_mode": {
    "name": "ipython",
    "version": 3
   },
   "file_extension": ".py",
   "mimetype": "text/x-python",
   "name": "python",
   "nbconvert_exporter": "python",
   "pygments_lexer": "ipython3",
   "version": "3.8.5"
  }
 },
 "nbformat": 4,
 "nbformat_minor": 4
}
